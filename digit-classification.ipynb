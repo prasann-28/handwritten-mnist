{
  "nbformat": 4,
  "nbformat_minor": 0,
  "metadata": {
    "colab": {
      "provenance": []
    },
    "kernelspec": {
      "name": "python3",
      "display_name": "Python 3",
      "language": "python"
    },
    "accelerator": "GPU",
    "language_info": {
      "mimetype": "text/x-python",
      "nbconvert_exporter": "python",
      "name": "python",
      "file_extension": ".py",
      "version": "3.5.4",
      "pygments_lexer": "ipython3",
      "codemirror_mode": {
        "version": 3,
        "name": "ipython"
      }
    }
  },
  "cells": [
    {
      "cell_type": "markdown",
      "source": [
        "# Homework Problem Statement : \n",
        "\n",
        "`Build a classification model for identifying 9 as a digit and 2 as a digit and rest  as another class using the MNIST dataset.`\n",
        "\n",
        "\n",
        "\n",
        "---"
      ],
      "metadata": {
        "id": "ykjdXg3iOQyY"
      }
    },
    {
      "cell_type": "markdown",
      "metadata": {
        "id": "3ONlZ4Vu_6s9"
      },
      "source": [
        "<p><h2><b><font color = 'Blue'> MNIST Case Study </font></b></h2></p>"
      ]
    },
    {
      "cell_type": "markdown",
      "metadata": {
        "id": "9ZlNxpfi_6tG"
      },
      "source": [
        "The MNIST problem is a dataset developed by Yann LeCun, Corinna Cortes and Christopher Burges for evaluating machine learning models on the handwritten digit classification problem.\n",
        "\n",
        "The dataset was constructed from a number of scanned document dataset available from the National Institute of Standards and Technology (NIST). This is where the name for the dataset comes from, as the Modified NIST or MNIST dataset.\n",
        "\n",
        "Images of digits were taken from a variety of scanned documents, normalized in size and centered. This makes it an excellent dataset for evaluating models, allowing the developer to focus on the machine learning with very little data cleaning or preparation required.\n",
        "\n",
        "Each image is a 28 by 28 pixel square (784 pixels total). A standard split of the dataset is used to evaluate and compare models, where 60,000 images are used to train a model and a separate set of 10,000 images are used to test it.\n",
        "\n",
        "It is a digit recognition task. As such there are 10 digits (0 to 9) or 10 classes to predict. Results are reported using prediction error, which is nothing more than the inverted classification accuracy.\n",
        "\n",
        "<img src = 'https://dim-mlp-images.s3.amazonaws.com/Deep+Learning/MINST/MNIST.png'>"
      ]
    },
    {
      "cell_type": "code",
      "metadata": {
        "id": "YpdKL9VLlvP8",
        "trusted": false,
        "outputId": "f4f70a1c-3b36-46c6-ce6f-c626c33bf7de",
        "colab": {
          "base_uri": "https://localhost:8080/"
        }
      },
      "source": [
        "%tensorflow_version 2.x\n",
        "from tensorflow import keras"
      ],
      "execution_count": null,
      "outputs": [
        {
          "output_type": "stream",
          "name": "stdout",
          "text": [
            "Colab only includes TensorFlow 2.x; %tensorflow_version has no effect.\n"
          ]
        }
      ]
    },
    {
      "cell_type": "code",
      "metadata": {
        "id": "TiFJdP8ClvYp",
        "trusted": false
      },
      "source": [
        "import tensorflow as tf"
      ],
      "execution_count": null,
      "outputs": []
    },
    {
      "cell_type": "code",
      "metadata": {
        "id": "C4i-ALc6lvCE",
        "outputId": "9ab8bc27-7727-4a4b-fcec-39f88a984614",
        "trusted": false,
        "colab": {
          "base_uri": "https://localhost:8080/",
          "height": 35
        }
      },
      "source": [
        "tf.__version__"
      ],
      "execution_count": null,
      "outputs": [
        {
          "output_type": "execute_result",
          "data": {
            "text/plain": [
              "'2.12.0'"
            ],
            "application/vnd.google.colaboratory.intrinsic+json": {
              "type": "string"
            }
          },
          "metadata": {},
          "execution_count": 240
        }
      ]
    },
    {
      "cell_type": "code",
      "metadata": {
        "id": "ez2WbKEtwGfk",
        "outputId": "e8be0fd6-1a40-46f1-d1da-8f992186aa18",
        "colab": {
          "base_uri": "https://localhost:8080/",
          "height": 35
        }
      },
      "source": [
        "keras.__version__"
      ],
      "execution_count": null,
      "outputs": [
        {
          "output_type": "execute_result",
          "data": {
            "text/plain": [
              "'2.12.0'"
            ],
            "application/vnd.google.colaboratory.intrinsic+json": {
              "type": "string"
            }
          },
          "metadata": {},
          "execution_count": 241
        }
      ]
    },
    {
      "cell_type": "markdown",
      "metadata": {
        "id": "oIM-f_BU_6t9"
      },
      "source": [
        "<p><h3><b><font color = 'DarkBlue'> Loading the MNIST dataset in Keras </font></b></h3></p>\n",
        "\n",
        "The MNIST dataset comes preloaded in Keras, in the form of a set of four Numpy\n",
        "arrays."
      ]
    },
    {
      "cell_type": "code",
      "metadata": {
        "id": "cJSlV1H9lu01",
        "trusted": false
      },
      "source": [
        "from keras.datasets import mnist"
      ],
      "execution_count": null,
      "outputs": []
    },
    {
      "cell_type": "code",
      "metadata": {
        "id": "ew2JbVqul-r5",
        "trusted": false
      },
      "source": [
        "(train_images, train_labels), (test_images, test_labels) = mnist.load_data()"
      ],
      "execution_count": null,
      "outputs": []
    },
    {
      "cell_type": "markdown",
      "metadata": {
        "id": "gyntrbIi_6uP"
      },
      "source": [
        "<p><b>train_images and train_labels form the training set, the data that the model will learn from. The model will then be tested on the test set, test_images and test_labels.</b></p>"
      ]
    },
    {
      "cell_type": "code",
      "metadata": {
        "id": "K52hE1Sal-pL",
        "outputId": "360f3558-d84a-46f6-cd3f-f0a271033333",
        "trusted": false,
        "colab": {
          "base_uri": "https://localhost:8080/"
        }
      },
      "source": [
        "train_images.shape"
      ],
      "execution_count": null,
      "outputs": [
        {
          "output_type": "execute_result",
          "data": {
            "text/plain": [
              "(60000, 28, 28)"
            ]
          },
          "metadata": {},
          "execution_count": 244
        }
      ]
    },
    {
      "cell_type": "code",
      "metadata": {
        "id": "8jK-ko4El-mU",
        "outputId": "30af6390-8030-4385-8346-9ecb57644b19",
        "trusted": false,
        "colab": {
          "base_uri": "https://localhost:8080/"
        }
      },
      "source": [
        "train_labels"
      ],
      "execution_count": null,
      "outputs": [
        {
          "output_type": "execute_result",
          "data": {
            "text/plain": [
              "array([5, 0, 4, ..., 5, 6, 8], dtype=uint8)"
            ]
          },
          "metadata": {},
          "execution_count": 245
        }
      ]
    },
    {
      "cell_type": "code",
      "metadata": {
        "id": "0mVP7AohgIT_",
        "outputId": "24631b6e-6933-40e0-b605-138e3408498a",
        "colab": {
          "base_uri": "https://localhost:8080/"
        }
      },
      "source": [
        "train_labels.shape"
      ],
      "execution_count": null,
      "outputs": [
        {
          "output_type": "execute_result",
          "data": {
            "text/plain": [
              "(60000,)"
            ]
          },
          "metadata": {},
          "execution_count": 246
        }
      ]
    },
    {
      "cell_type": "code",
      "source": [],
      "metadata": {
        "id": "8GVWqwnzyrRw"
      },
      "execution_count": null,
      "outputs": []
    },
    {
      "cell_type": "markdown",
      "metadata": {
        "id": "0dNj5f0pm-GD"
      },
      "source": [
        "<p><h3><font color= 'DarkBlue'><b> Visualizing first four samples in Train dataset </b></font></h3></p>\n",
        "\n",
        "\n"
      ]
    },
    {
      "cell_type": "code",
      "metadata": {
        "id": "g5-Ri2rhmlpq",
        "outputId": "15832b6d-c3c8-453f-a48c-9fb674507a0b",
        "colab": {
          "base_uri": "https://localhost:8080/"
        }
      },
      "source": [
        "import matplotlib.pyplot as plt\n",
        "train_images[0,:,:].shape"
      ],
      "execution_count": null,
      "outputs": [
        {
          "output_type": "execute_result",
          "data": {
            "text/plain": [
              "(28, 28)"
            ]
          },
          "metadata": {},
          "execution_count": 247
        }
      ]
    },
    {
      "cell_type": "code",
      "metadata": {
        "id": "dU2kbzOsmlm6",
        "outputId": "0ff0dd79-df1b-4a87-da0f-88c7f3a71a75",
        "colab": {
          "base_uri": "https://localhost:8080/",
          "height": 432
        }
      },
      "source": [
        "plt.subplot(2,2,1)\n",
        "plt.imshow(train_images[0], cmap='gray')\n",
        "plt.subplot(2,2,2)\n",
        "plt.imshow(train_images[1], cmap='gray')\n",
        "plt.subplot(2,2,3)\n",
        "plt.imshow(train_images[2], cmap='gray')\n",
        "plt.subplot(2,2,4)\n",
        "plt.imshow(train_images[3], cmap='gray');"
      ],
      "execution_count": null,
      "outputs": [
        {
          "output_type": "display_data",
          "data": {
            "text/plain": [
              "<Figure size 640x480 with 4 Axes>"
            ],
            "image/png": "[encoded data removed]"
          },
          "metadata": {}
        }
      ]
    },
    {
      "cell_type": "markdown",
      "metadata": {
        "id": "ZqK9nZl2_6vK"
      },
      "source": [
        "<p><h3><b><font color = 'DarkBlue'> Preparing the image data </font></b></h3></p>\n",
        "\n",
        "The training dataset is structured as a 3-dimensional array of instance, image width and image height. For a multi-layer perceptron model we must reduce the images down into a vector of pixels. In this case the 28×28 sized images will be 784 pixel input values.\n",
        "\n",
        "Before training, we’ll preprocess the data by reshaping it into the shape the network expects and scaling it so that all values are in the [0, 1] interval. Previously, our training\n",
        "images, for instance, were stored in an array of shape (60000, 28, 28) of type uint8 with values in the [0, 255] interval. We transform it into a float32 array of\n",
        "shape (60000, 28 * 28) with values between 0 and 1.\n"
      ]
    },
    {
      "cell_type": "code",
      "metadata": {
        "id": "1-Xk5NMqd0jq",
        "outputId": "fa302797-34f5-4d0d-9fe8-fee902337939",
        "colab": {
          "base_uri": "https://localhost:8080/"
        }
      },
      "source": [
        "train_images.shape"
      ],
      "execution_count": null,
      "outputs": [
        {
          "output_type": "execute_result",
          "data": {
            "text/plain": [
              "(60000, 28, 28)"
            ]
          },
          "metadata": {},
          "execution_count": 249
        }
      ]
    },
    {
      "cell_type": "code",
      "metadata": {
        "id": "e4Wzfr3_qlWz",
        "outputId": "3b96a36e-fe26-4ba4-e9a2-434f544001bc",
        "colab": {
          "base_uri": "https://localhost:8080/"
        }
      },
      "source": [
        "train_images.ndim"
      ],
      "execution_count": null,
      "outputs": [
        {
          "output_type": "execute_result",
          "data": {
            "text/plain": [
              "3"
            ]
          },
          "metadata": {},
          "execution_count": 250
        }
      ]
    },
    {
      "cell_type": "code",
      "metadata": {
        "id": "QghMu3wLqoHd"
      },
      "source": [
        "#train_images[10:20,10:20,10:20]"
      ],
      "execution_count": null,
      "outputs": []
    },
    {
      "cell_type": "code",
      "metadata": {
        "id": "1ko1TTOFl-XM",
        "trusted": false
      },
      "source": [
        "train_images = train_images.reshape((60000, 28 * 28))\n",
        "train_images = train_images.astype('float32') / 255\n",
        "test_images = test_images.reshape((10000, 28 * 28)) \n",
        "test_images = test_images.astype('float32') / 255"
      ],
      "execution_count": null,
      "outputs": []
    },
    {
      "cell_type": "code",
      "metadata": {
        "id": "1ZCBJ1WHp9K6",
        "outputId": "268388ca-be4a-4024-bac1-2c2b1c96d030",
        "colab": {
          "base_uri": "https://localhost:8080/"
        }
      },
      "source": [
        "train_images.ndim"
      ],
      "execution_count": null,
      "outputs": [
        {
          "output_type": "execute_result",
          "data": {
            "text/plain": [
              "2"
            ]
          },
          "metadata": {},
          "execution_count": 253
        }
      ]
    },
    {
      "cell_type": "code",
      "metadata": {
        "id": "X7HC7-5UqBKF",
        "outputId": "cf4db184-2928-4e67-a677-4240dd2e2165",
        "colab": {
          "base_uri": "https://localhost:8080/"
        }
      },
      "source": [
        "train_images.shape"
      ],
      "execution_count": null,
      "outputs": [
        {
          "output_type": "execute_result",
          "data": {
            "text/plain": [
              "(60000, 784)"
            ]
          },
          "metadata": {},
          "execution_count": 254
        }
      ]
    },
    {
      "cell_type": "code",
      "metadata": {
        "id": "uoKIhR8a9_hC"
      },
      "source": [
        "#train_images[:20,100:120]"
      ],
      "execution_count": null,
      "outputs": []
    },
    {
      "cell_type": "code",
      "metadata": {
        "id": "LwMBplzvrsAm"
      },
      "source": [
        "#train_images[15000:15100,300:400]"
      ],
      "execution_count": null,
      "outputs": []
    },
    {
      "cell_type": "markdown",
      "metadata": {
        "id": "8VwYt_Uq_6vQ"
      },
      "source": [
        "<p><h3><b><font color = 'DarkBlue'> Preparing the labels </font></b></h3></p>\n",
        "\n",
        "the output variable is an integer from 0 to 9. This is a multi-class classification problem. As such, it is good practice to use a one hot encoding of the class values, transforming the vector of class integers into a binary matrix. We use to_categorical() to encode the labels."
      ]
    },
    {
      "cell_type": "code",
      "metadata": {
        "id": "dqn0KHdwsdiw",
        "outputId": "1327d03f-ce6e-49eb-dcb5-5853ea2908da",
        "colab": {
          "base_uri": "https://localhost:8080/"
        }
      },
      "source": [
        "train_labels"
      ],
      "execution_count": null,
      "outputs": [
        {
          "output_type": "execute_result",
          "data": {
            "text/plain": [
              "array([5, 0, 4, ..., 5, 6, 8], dtype=uint8)"
            ]
          },
          "metadata": {},
          "execution_count": 257
        }
      ]
    },
    {
      "cell_type": "code",
      "source": [
        "import numpy as np"
      ],
      "metadata": {
        "id": "48CAbAwLzA5w"
      },
      "execution_count": null,
      "outputs": []
    },
    {
      "cell_type": "code",
      "source": [
        "np.unique(train_labels)"
      ],
      "metadata": {
        "colab": {
          "base_uri": "https://localhost:8080/"
        },
        "id": "gnk_3d2FzEFV",
        "outputId": "ddcd5800-16a1-48fc-c090-184ff85f1d16"
      },
      "execution_count": null,
      "outputs": [
        {
          "output_type": "execute_result",
          "data": {
            "text/plain": [
              "array([0, 1, 2, 3, 4, 5, 6, 7, 8, 9], dtype=uint8)"
            ]
          },
          "metadata": {},
          "execution_count": 259
        }
      ]
    },
    {
      "cell_type": "code",
      "source": [
        "train_labels_new = train_labels"
      ],
      "metadata": {
        "id": "XPmsJahuHC-9"
      },
      "execution_count": null,
      "outputs": []
    },
    {
      "cell_type": "code",
      "source": [
        "for x in range(len(train_labels_new)):\n",
        "  if train_labels_new[x] != 2 and train_labels_new[x] !=9:\n",
        "    train_labels_new[x] = 0"
      ],
      "metadata": {
        "id": "vjuFAeO6HsWa"
      },
      "execution_count": null,
      "outputs": []
    },
    {
      "cell_type": "code",
      "source": [
        "train_labels_new[train_labels_new == 2] = 1"
      ],
      "metadata": {
        "id": "QaQ48PD3HmZf"
      },
      "execution_count": null,
      "outputs": []
    },
    {
      "cell_type": "code",
      "source": [
        "train_labels_new[train_labels_new == 9] = 2"
      ],
      "metadata": {
        "id": "zFxr8FcMHZPi"
      },
      "execution_count": null,
      "outputs": []
    },
    {
      "cell_type": "code",
      "source": [
        "np.unique(train_labels_new)"
      ],
      "metadata": {
        "colab": {
          "base_uri": "https://localhost:8080/"
        },
        "id": "Xg6dWh2iI01j",
        "outputId": "736ebd60-0915-4d25-eb9c-8921c4287ef6"
      },
      "execution_count": null,
      "outputs": [
        {
          "output_type": "execute_result",
          "data": {
            "text/plain": [
              "array([0, 1, 2], dtype=uint8)"
            ]
          },
          "metadata": {},
          "execution_count": 264
        }
      ]
    },
    {
      "cell_type": "code",
      "source": [
        "# Test label classes\n",
        "test_labels_new = test_labels\n",
        "for x in range(len(test_labels_new)):\n",
        "  if test_labels_new[x] != 2 and test_labels_new[x] !=9:\n",
        "    test_labels_new[x] = 0\n",
        "test_labels_new[test_labels_new == 2] = 1\n",
        "test_labels_new[test_labels_new == 9] = 2"
      ],
      "metadata": {
        "id": "9lu9MW2KJMMO"
      },
      "execution_count": null,
      "outputs": []
    },
    {
      "cell_type": "code",
      "source": [
        "np.unique(test_labels_new)"
      ],
      "metadata": {
        "colab": {
          "base_uri": "https://localhost:8080/"
        },
        "id": "R1YbNmqBJlx_",
        "outputId": "75ac2088-0bea-466e-d8d2-7f92ebaf89e4"
      },
      "execution_count": null,
      "outputs": [
        {
          "output_type": "execute_result",
          "data": {
            "text/plain": [
              "array([0, 1, 2], dtype=uint8)"
            ]
          },
          "metadata": {},
          "execution_count": 266
        }
      ]
    },
    {
      "cell_type": "code",
      "source": [
        "from keras.utils import to_categorical\n",
        "train_labels = to_categorical(train_labels_new)\n",
        "test_labels = to_categorical(test_labels_new)"
      ],
      "metadata": {
        "id": "ihLEu2vMJsyp"
      },
      "execution_count": null,
      "outputs": []
    },
    {
      "cell_type": "code",
      "source": [
        "train_labels[:10], train_labels_new[:10]"
      ],
      "metadata": {
        "colab": {
          "base_uri": "https://localhost:8080/"
        },
        "id": "D3rlqdSRJ5Od",
        "outputId": "5a6e9e6e-ffc4-40a9-c18e-66d76796f21a"
      },
      "execution_count": null,
      "outputs": [
        {
          "output_type": "execute_result",
          "data": {
            "text/plain": [
              "(array([[1., 0., 0.],\n",
              "        [1., 0., 0.],\n",
              "        [1., 0., 0.],\n",
              "        [1., 0., 0.],\n",
              "        [0., 0., 1.],\n",
              "        [0., 1., 0.],\n",
              "        [1., 0., 0.],\n",
              "        [1., 0., 0.],\n",
              "        [1., 0., 0.],\n",
              "        [1., 0., 0.]], dtype=float32),\n",
              " array([0, 0, 0, 0, 2, 1, 0, 0, 0, 0], dtype=uint8))"
            ]
          },
          "metadata": {},
          "execution_count": 268
        }
      ]
    },
    {
      "cell_type": "markdown",
      "metadata": {
        "id": "3NDMUXUq_6uk"
      },
      "source": [
        "<p><h3><b><font color = 'DarkBlue'> Network Architecture </font></b></h3></p>\n",
        "\n",
        "# ***1. Building a Sequential Model ***\n",
        "  We can create a deep learning sequential model with two layers. \n",
        "  \n",
        "\n",
        "\n",
        "\n"
      ]
    },
    {
      "cell_type": "code",
      "metadata": {
        "id": "QO58em68l-jq",
        "trusted": false
      },
      "source": [
        "from keras import models\n",
        "from keras import layers"
      ],
      "execution_count": null,
      "outputs": []
    },
    {
      "cell_type": "code",
      "metadata": {
        "id": "nMHq_Wuwl-g-",
        "trusted": false
      },
      "source": [
        "model_A = keras.models.Sequential([\n",
        " keras.layers.Dense(units=500, input_shape=(28 * 28,), activation='relu'),\n",
        " keras.layers.Dense(units=300, activation='relu'),\n",
        " keras.layers.Dense(units=300, activation='relu'),\n",
        " keras.layers.Dense(units=200, activation='relu'),\n",
        " keras.layers.Dense(units=100, activation='relu'),\n",
        " keras.layers.Dense(units=3, activation='softmax'),\n",
        " ])"
      ],
      "execution_count": null,
      "outputs": []
    },
    {
      "cell_type": "code",
      "source": [
        "model_A.summary()"
      ],
      "metadata": {
        "colab": {
          "base_uri": "https://localhost:8080/"
        },
        "id": "US00Mja3LTXb",
        "outputId": "3f4acbbf-70bc-49c9-e0fb-f84e8efb38a8"
      },
      "execution_count": null,
      "outputs": [
        {
          "output_type": "stream",
          "name": "stdout",
          "text": [
            "Model: \"sequential_2\"\n",
            "_________________________________________________________________\n",
            " Layer (type)                Output Shape              Param #   \n",
            "=================================================================\n",
            " dense_12 (Dense)            (None, 500)               392500    \n",
            "                                                                 \n",
            " dense_13 (Dense)            (None, 300)               150300    \n",
            "                                                                 \n",
            " dense_14 (Dense)            (None, 300)               90300     \n",
            "                                                                 \n",
            " dense_15 (Dense)            (None, 200)               60200     \n",
            "                                                                 \n",
            " dense_16 (Dense)            (None, 100)               20100     \n",
            "                                                                 \n",
            " dense_17 (Dense)            (None, 3)                 303       \n",
            "                                                                 \n",
            "=================================================================\n",
            "Total params: 713,703\n",
            "Trainable params: 713,703\n",
            "Non-trainable params: 0\n",
            "_________________________________________________________________\n"
          ]
        }
      ]
    },
    {
      "cell_type": "code",
      "source": [
        "model_A.compile(loss='categorical_crossentropy', optimizer = keras.optimizers.SGD(learning_rate=0.01), metrics=['accuracy'])"
      ],
      "metadata": {
        "id": "wgGMcs1LLXct"
      },
      "execution_count": null,
      "outputs": []
    },
    {
      "cell_type": "code",
      "source": [
        "train_labels.shape"
      ],
      "metadata": {
        "colab": {
          "base_uri": "https://localhost:8080/"
        },
        "id": "EF-ADuqOLhEo",
        "outputId": "b1c06995-4aaf-4691-c50d-386cd0f21ec3"
      },
      "execution_count": null,
      "outputs": [
        {
          "output_type": "execute_result",
          "data": {
            "text/plain": [
              "(60000, 3)"
            ]
          },
          "metadata": {},
          "execution_count": 273
        }
      ]
    },
    {
      "cell_type": "code",
      "source": [
        "train_images.shape"
      ],
      "metadata": {
        "colab": {
          "base_uri": "https://localhost:8080/"
        },
        "id": "GDa0vB8qMGCQ",
        "outputId": "6b6cc490-28a3-42bf-dcdc-83da6c13f14b"
      },
      "execution_count": null,
      "outputs": [
        {
          "output_type": "execute_result",
          "data": {
            "text/plain": [
              "(60000, 784)"
            ]
          },
          "metadata": {},
          "execution_count": 274
        }
      ]
    },
    {
      "cell_type": "code",
      "source": [
        "test_images.shape"
      ],
      "metadata": {
        "colab": {
          "base_uri": "https://localhost:8080/"
        },
        "id": "AKlHVTRzMdgw",
        "outputId": "2d315862-7ae5-4539-9488-63dde9747f36"
      },
      "execution_count": null,
      "outputs": [
        {
          "output_type": "execute_result",
          "data": {
            "text/plain": [
              "(10000, 784)"
            ]
          },
          "metadata": {},
          "execution_count": 275
        }
      ]
    },
    {
      "cell_type": "code",
      "source": [
        "test_labels.shape"
      ],
      "metadata": {
        "colab": {
          "base_uri": "https://localhost:8080/"
        },
        "id": "xw0ZjShdMgKh",
        "outputId": "f3603239-2c5e-459e-820d-89ed621730ad"
      },
      "execution_count": null,
      "outputs": [
        {
          "output_type": "execute_result",
          "data": {
            "text/plain": [
              "(10000, 3)"
            ]
          },
          "metadata": {},
          "execution_count": 276
        }
      ]
    },
    {
      "cell_type": "code",
      "source": [
        "model_A.fit(train_images, train_labels,epochs=10,batch_size=512,validation_data=(test_images,test_labels))"
      ],
      "metadata": {
        "colab": {
          "base_uri": "https://localhost:8080/"
        },
        "id": "UggwPEWtLcOW",
        "outputId": "256e2ecc-15dd-4817-ba3c-8fe91851ad7a"
      },
      "execution_count": null,
      "outputs": [
        {
          "output_type": "stream",
          "name": "stdout",
          "text": [
            "Epoch 1/10\n",
            "118/118 [==============================] - 2s 7ms/step - loss: 0.6521 - accuracy: 0.7936 - val_loss: 0.5663 - val_accuracy: 0.7959\n",
            "Epoch 2/10\n",
            "118/118 [==============================] - 1s 7ms/step - loss: 0.4919 - accuracy: 0.8093 - val_loss: 0.4281 - val_accuracy: 0.8342\n",
            "Epoch 3/10\n",
            "118/118 [==============================] - 1s 7ms/step - loss: 0.3595 - accuracy: 0.8593 - val_loss: 0.3074 - val_accuracy: 0.8758\n",
            "Epoch 4/10\n",
            "118/118 [==============================] - 1s 6ms/step - loss: 0.2688 - accuracy: 0.9040 - val_loss: 0.2409 - val_accuracy: 0.9218\n",
            "Epoch 5/10\n",
            "118/118 [==============================] - 1s 5ms/step - loss: 0.2186 - accuracy: 0.9303 - val_loss: 0.2031 - val_accuracy: 0.9393\n",
            "Epoch 6/10\n",
            "118/118 [==============================] - 1s 6ms/step - loss: 0.1891 - accuracy: 0.9392 - val_loss: 0.1807 - val_accuracy: 0.9464\n",
            "Epoch 7/10\n",
            "118/118 [==============================] - 1s 5ms/step - loss: 0.1706 - accuracy: 0.9451 - val_loss: 0.1734 - val_accuracy: 0.9466\n",
            "Epoch 8/10\n",
            "118/118 [==============================] - 1s 5ms/step - loss: 0.1570 - accuracy: 0.9495 - val_loss: 0.1559 - val_accuracy: 0.9528\n",
            "Epoch 9/10\n",
            "118/118 [==============================] - 1s 5ms/step - loss: 0.1462 - accuracy: 0.9525 - val_loss: 0.1481 - val_accuracy: 0.9541\n",
            "Epoch 10/10\n",
            "118/118 [==============================] - 1s 5ms/step - loss: 0.1371 - accuracy: 0.9555 - val_loss: 0.1435 - val_accuracy: 0.9553\n"
          ]
        },
        {
          "output_type": "execute_result",
          "data": {
            "text/plain": [
              "<keras.callbacks.History at 0x7efe98268340>"
            ]
          },
          "metadata": {},
          "execution_count": 277
        }
      ]
    },
    {
      "cell_type": "code",
      "source": [
        "model_A.evaluate(test_images, test_labels)      # Evaluate the model on test dataset "
      ],
      "metadata": {
        "colab": {
          "base_uri": "https://localhost:8080/"
        },
        "id": "QdwwTX7WMtGM",
        "outputId": "59fe566d-6c15-4bdd-9fe0-c72d19066118"
      },
      "execution_count": null,
      "outputs": [
        {
          "output_type": "stream",
          "name": "stdout",
          "text": [
            "313/313 [==============================] - 1s 3ms/step - loss: 0.1435 - accuracy: 0.9553\n"
          ]
        },
        {
          "output_type": "execute_result",
          "data": {
            "text/plain": [
              "[0.1435461938381195, 0.955299973487854]"
            ]
          },
          "metadata": {},
          "execution_count": 278
        }
      ]
    },
    {
      "cell_type": "code",
      "source": [
        "y_pred = np.argmax(model_A.predict(test_images),axis=1) # predict_classes() (deprecated). This line outputs the class with highest estimated probability\n",
        "y_pred=y_pred.flatten()                           # Convert it to 1D array\n",
        "y_pred                                            # new predicted labels for image 2 as 1 otherwise 0"
      ],
      "metadata": {
        "colab": {
          "base_uri": "https://localhost:8080/"
        },
        "id": "86iDZJJqLhrE",
        "outputId": "1c5dc625-4f7c-4e5a-d981-7e51ad36dda6"
      },
      "execution_count": null,
      "outputs": [
        {
          "output_type": "stream",
          "name": "stdout",
          "text": [
            "313/313 [==============================] - 1s 2ms/step\n"
          ]
        },
        {
          "output_type": "execute_result",
          "data": {
            "text/plain": [
              "array([0, 1, 0, ..., 0, 0, 0])"
            ]
          },
          "metadata": {},
          "execution_count": 281
        }
      ]
    },
    {
      "cell_type": "code",
      "source": [
        "np.unique(y_pred)"
      ],
      "metadata": {
        "colab": {
          "base_uri": "https://localhost:8080/"
        },
        "id": "9XIuTa35NOi1",
        "outputId": "cf89af90-9c05-408c-9ce0-39343d92c725"
      },
      "execution_count": null,
      "outputs": [
        {
          "output_type": "execute_result",
          "data": {
            "text/plain": [
              "array([0, 1, 2])"
            ]
          },
          "metadata": {},
          "execution_count": 282
        }
      ]
    },
    {
      "cell_type": "code",
      "source": [
        "y_pred[1], test_labels[1]"
      ],
      "metadata": {
        "colab": {
          "base_uri": "https://localhost:8080/"
        },
        "id": "KKg2ieEeOeDx",
        "outputId": "ca61838e-b126-450d-a592-b1850fd26f12"
      },
      "execution_count": null,
      "outputs": [
        {
          "output_type": "execute_result",
          "data": {
            "text/plain": [
              "(1, array([0., 1., 0.], dtype=float32))"
            ]
          },
          "metadata": {},
          "execution_count": 284
        }
      ]
    },
    {
      "cell_type": "code",
      "source": [
        "(train_images, train_labels), (test_images, test_labels) = mnist.load_data()"
      ],
      "metadata": {
        "id": "GpR-XGERQrbY"
      },
      "execution_count": null,
      "outputs": []
    },
    {
      "cell_type": "code",
      "source": [
        "test_image = test_images[1]\n",
        "plt.subplot(2,2,1)\n",
        "plt.imshow(test_image, cmap='gray')"
      ],
      "metadata": {
        "colab": {
          "base_uri": "https://localhost:8080/",
          "height": 249
        },
        "id": "X1UDKpe3QVYD",
        "outputId": "66e011a0-7324-4a77-d27a-89faa22bbd0f"
      },
      "execution_count": null,
      "outputs": [
        {
          "output_type": "execute_result",
          "data": {
            "text/plain": [
              "<matplotlib.image.AxesImage at 0x7efe97dacbe0>"
            ]
          },
          "metadata": {},
          "execution_count": 293
        },
        {
          "output_type": "display_data",
          "data": {
            "text/plain": [
              "<Figure size 640x480 with 1 Axes>"
            ],
            "image/png": "[encoded data removed]"
          },
          "metadata": {}
        }
      ]
    },
    {
      "cell_type": "code",
      "source": [
        "test_image = test_image.reshape((1, 28 * 28)) \n",
        "test_image = test_image.astype('float32') / 255"
      ],
      "metadata": {
        "id": "BDxlL8WMQ9j-"
      },
      "execution_count": null,
      "outputs": []
    },
    {
      "cell_type": "code",
      "source": [
        "single_pred = np.argmax(model_A.predict([test_image]),axis=1)"
      ],
      "metadata": {
        "colab": {
          "base_uri": "https://localhost:8080/"
        },
        "id": "BXPS4tAKQNch",
        "outputId": "521faac1-6ab6-4204-9e9c-b63ffd7ee045"
      },
      "execution_count": null,
      "outputs": [
        {
          "output_type": "stream",
          "name": "stdout",
          "text": [
            "1/1 [==============================] - 0s 72ms/step\n"
          ]
        }
      ]
    },
    {
      "cell_type": "code",
      "source": [
        "single_pred[0]"
      ],
      "metadata": {
        "colab": {
          "base_uri": "https://localhost:8080/"
        },
        "id": "_XwTmrt8RI1m",
        "outputId": "83b367f0-6e20-40da-8a93-e22a033e6c4d"
      },
      "execution_count": null,
      "outputs": [
        {
          "output_type": "execute_result",
          "data": {
            "text/plain": [
              "1"
            ]
          },
          "metadata": {},
          "execution_count": 301
        }
      ]
    },
    {
      "cell_type": "code",
      "source": [
        "def get_class(test_image, model_A):\n",
        "  class_map = {0: 'other', 1: 2, 2: 9}\n",
        "  test_image = test_image.reshape((1, 28 * 28)) \n",
        "  test_image = test_image.astype('float32') / 255\n",
        "  single_pred = np.argmax(model_A.predict([test_image]),axis=1)\n",
        "  return class_map[single_pred[0]]\n"
      ],
      "metadata": {
        "id": "EMmUN0jROgcI"
      },
      "execution_count": null,
      "outputs": []
    },
    {
      "cell_type": "code",
      "source": [
        "test_image = test_images[1]\n",
        "plt.subplot(2,2,1)\n",
        "plt.imshow(test_image, cmap='gray')"
      ],
      "metadata": {
        "colab": {
          "base_uri": "https://localhost:8080/",
          "height": 249
        },
        "id": "kFsUjzq5SQVR",
        "outputId": "41e55f9f-0846-49ce-8073-30ef9d6c10c3"
      },
      "execution_count": null,
      "outputs": [
        {
          "output_type": "execute_result",
          "data": {
            "text/plain": [
              "<matplotlib.image.AxesImage at 0x7efe97ca1580>"
            ]
          },
          "metadata": {},
          "execution_count": 307
        },
        {
          "output_type": "display_data",
          "data": {
            "text/plain": [
              "<Figure size 640x480 with 1 Axes>"
            ],
            "image/png": "[encoded data removed]"
          },
          "metadata": {}
        }
      ]
    },
    {
      "cell_type": "code",
      "source": [
        "test_case = get_class(test_image, model_A)"
      ],
      "metadata": {
        "colab": {
          "base_uri": "https://localhost:8080/"
        },
        "id": "VElgVeH1RoEs",
        "outputId": "24eeea4a-f2de-49dd-ae92-4c7587cb566a"
      },
      "execution_count": null,
      "outputs": [
        {
          "output_type": "stream",
          "name": "stdout",
          "text": [
            "1/1 [==============================] - 0s 18ms/step\n"
          ]
        }
      ]
    },
    {
      "cell_type": "code",
      "source": [
        "test_case"
      ],
      "metadata": {
        "colab": {
          "base_uri": "https://localhost:8080/"
        },
        "id": "37yc39CsRuT8",
        "outputId": "2c0c6f3d-f391-4181-a609-b91565f346ba"
      },
      "execution_count": null,
      "outputs": [
        {
          "output_type": "execute_result",
          "data": {
            "text/plain": [
              "2"
            ]
          },
          "metadata": {},
          "execution_count": 309
        }
      ]
    },
    {
      "cell_type": "code",
      "source": [
        "test_image = test_images[7]\n",
        "plt.subplot(2,2,1)\n",
        "plt.imshow(test_image, cmap='gray')"
      ],
      "metadata": {
        "colab": {
          "base_uri": "https://localhost:8080/",
          "height": 249
        },
        "id": "nyhLd2YmSiEK",
        "outputId": "8c17e328-3aa2-41bd-bb92-6546426af413"
      },
      "execution_count": null,
      "outputs": [
        {
          "output_type": "execute_result",
          "data": {
            "text/plain": [
              "<matplotlib.image.AxesImage at 0x7efe96e3b2b0>"
            ]
          },
          "metadata": {},
          "execution_count": 314
        },
        {
          "output_type": "display_data",
          "data": {
            "text/plain": [
              "<Figure size 640x480 with 1 Axes>"
            ],
            "image/png": "[encoded data removed]"
          },
          "metadata": {}
        }
      ]
    },
    {
      "cell_type": "code",
      "source": [
        "get_class(test_image, model_A)"
      ],
      "metadata": {
        "colab": {
          "base_uri": "https://localhost:8080/"
        },
        "id": "0wsLzZKRSjmx",
        "outputId": "f35f1c8c-4855-47e1-8b03-786944fe3913"
      },
      "execution_count": null,
      "outputs": [
        {
          "output_type": "stream",
          "name": "stdout",
          "text": [
            "1/1 [==============================] - 0s 20ms/step\n"
          ]
        },
        {
          "output_type": "execute_result",
          "data": {
            "text/plain": [
              "9"
            ]
          },
          "metadata": {},
          "execution_count": 316
        }
      ]
    },
    {
      "cell_type": "code",
      "source": [
        "from sklearn.metrics import confusion_matrix, ConfusionMatrixDisplay"
      ],
      "metadata": {
        "id": "Q0kKUheXTYwr"
      },
      "execution_count": null,
      "outputs": []
    },
    {
      "cell_type": "code",
      "source": [
        "y_pred, test_labels"
      ],
      "metadata": {
        "colab": {
          "base_uri": "https://localhost:8080/"
        },
        "id": "LiUxuSLZTyjQ",
        "outputId": "c17acf0b-0569-42c4-c644-33ad64e05c6b"
      },
      "execution_count": null,
      "outputs": [
        {
          "output_type": "execute_result",
          "data": {
            "text/plain": [
              "(array([0, 1, 0, ..., 0, 0, 0]), array([0, 1, 0, ..., 0, 0, 0], dtype=uint8))"
            ]
          },
          "metadata": {},
          "execution_count": 322
        }
      ]
    },
    {
      "cell_type": "code",
      "source": [
        "cm = confusion_matrix(test_labels, y_pred)\n",
        "ConfusionMatrixDisplay(cm).plot()"
      ],
      "metadata": {
        "colab": {
          "base_uri": "https://localhost:8080/",
          "height": 467
        },
        "id": "_ne20Fp4Tuhp",
        "outputId": "607cff6e-2c01-44df-8f3b-6cf19a375ad0"
      },
      "execution_count": null,
      "outputs": [
        {
          "output_type": "execute_result",
          "data": {
            "text/plain": [
              "<sklearn.metrics._plot.confusion_matrix.ConfusionMatrixDisplay at 0x7efde8e26a90>"
            ]
          },
          "metadata": {},
          "execution_count": 327
        },
        {
          "output_type": "display_data",
          "data": {
            "text/plain": [
              "<Figure size 640x480 with 2 Axes>"
            ],
            "image/png": "[encoded data removed]"
          },
          "metadata": {}
        }
      ]
    }
  ]
}